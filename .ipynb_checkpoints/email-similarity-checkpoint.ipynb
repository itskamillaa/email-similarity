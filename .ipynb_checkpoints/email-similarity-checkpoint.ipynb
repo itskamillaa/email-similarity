{
 "cells": [
  {
   "cell_type": "markdown",
   "id": "e752d754",
   "metadata": {},
   "source": [
    "# Email similarity\n",
    "### Supervised learning - Naive Bayes classifier using sklearn. \n",
    "\n",
    "- Dataset is taken from https://scikit-learn.org/stable/modules/generated/sklearn.datasets.fetch_20newsgroups.html\n",
    "- The project is part of Data Science career path on Codecademy platform."
   ]
  },
  {
   "cell_type": "code",
   "execution_count": 59,
   "id": "c5ee3c37",
   "metadata": {},
   "outputs": [],
   "source": [
    "#Importing the libraries \n",
    "from sklearn.datasets import fetch_20newsgroups\n",
    "from sklearn.naive_bayes import MultinomialNB\n",
    "from sklearn.feature_extraction.text import CountVectorizer\n",
    "import numpy as np"
   ]
  },
  {
   "cell_type": "markdown",
   "id": "eddc139a",
   "metadata": {},
   "source": [
    "### Exploring the Data\n"
   ]
  },
  {
   "cell_type": "code",
   "execution_count": 12,
   "id": "0b927785",
   "metadata": {},
   "outputs": [
    {
     "data": {
      "text/plain": [
       "['alt.atheism',\n",
       " 'comp.graphics',\n",
       " 'comp.os.ms-windows.misc',\n",
       " 'comp.sys.ibm.pc.hardware',\n",
       " 'comp.sys.mac.hardware',\n",
       " 'comp.windows.x',\n",
       " 'misc.forsale',\n",
       " 'rec.autos',\n",
       " 'rec.motorcycles',\n",
       " 'rec.sport.baseball',\n",
       " 'rec.sport.hockey',\n",
       " 'sci.crypt',\n",
       " 'sci.electronics',\n",
       " 'sci.med',\n",
       " 'sci.space',\n",
       " 'soc.religion.christian',\n",
       " 'talk.politics.guns',\n",
       " 'talk.politics.mideast',\n",
       " 'talk.politics.misc',\n",
       " 'talk.religion.misc']"
      ]
     },
     "execution_count": 12,
     "metadata": {},
     "output_type": "execute_result"
    }
   ],
   "source": [
    "#Loading the dataset of emails \n",
    "emails = fetch_20newsgroups()\n",
    "#20 different categories that are available in the dataset\n",
    "emails.target_names"
   ]
  },
  {
   "cell_type": "markdown",
   "id": "544f42ee",
   "metadata": {},
   "source": [
    "We are looking into classifying the emails about hockey and soccer. To load those categories, we need to pass ***categories*** parameter to the *fetch_20newsgroups()* function."
   ]
  },
  {
   "cell_type": "code",
   "execution_count": 66,
   "id": "4dafaa0f",
   "metadata": {},
   "outputs": [],
   "source": [
    "#categories = ['rec.sport.baseball', 'rec.sport.hockey']"
   ]
  },
  {
   "cell_type": "markdown",
   "id": "946c3ec2",
   "metadata": {},
   "source": [
    "Alternatively, we can try different category combinations for classification and obserbe how the accuracy of classifier changes. We can assume that the categories that are further from each other in terms of their possible meanings and usage are going to be classified with greater accuracy. For example, it's easier to distinguish emails that are about hockey and tech support than hockey and baseball."
   ]
  },
  {
   "cell_type": "code",
   "execution_count": 80,
   "id": "9599f8a4",
   "metadata": {},
   "outputs": [],
   "source": [
    "#Uncomment the following lists and check the accuracy at the end of the program.\n",
    "#categories = ['comp.sys.ibm.pc.hardware','rec.sport.hockey']\n",
    "categories = ['comp.windows.x','sci.electronics']\n"
   ]
  },
  {
   "cell_type": "code",
   "execution_count": 81,
   "id": "5ccca975",
   "metadata": {},
   "outputs": [],
   "source": [
    "emails = fetch_20newsgroups(categories=categories)"
   ]
  },
  {
   "cell_type": "markdown",
   "id": "3fa42192",
   "metadata": {},
   "source": [
    "From the emails dataset, we can access the following information:\n",
    "- Data\n",
    "- Labels\n",
    "- Class names"
   ]
  },
  {
   "cell_type": "code",
   "execution_count": 82,
   "id": "7eb72727",
   "metadata": {},
   "outputs": [
    {
     "data": {
      "text/plain": [
       "1184"
      ]
     },
     "execution_count": 82,
     "metadata": {},
     "output_type": "execute_result"
    }
   ],
   "source": [
    "#Data stored as a list in emails.data\n",
    "emails.data\n",
    "#Total of 1197 emails are available in the dataset\n",
    "len(emails.data)"
   ]
  },
  {
   "cell_type": "code",
   "execution_count": 83,
   "id": "fe3e77f8",
   "metadata": {},
   "outputs": [
    {
     "data": {
      "text/plain": [
       "1184"
      ]
     },
     "execution_count": 83,
     "metadata": {},
     "output_type": "execute_result"
    }
   ],
   "source": [
    "#Labels for emails\n",
    "emails.target\n",
    "#Corresponding labels, 1197 in total\n",
    "len(emails.target)"
   ]
  },
  {
   "cell_type": "code",
   "execution_count": 84,
   "id": "1846ea86",
   "metadata": {},
   "outputs": [
    {
     "data": {
      "text/plain": [
       "['comp.windows.x', 'sci.electronics']"
      ]
     },
     "execution_count": 84,
     "metadata": {},
     "output_type": "execute_result"
    }
   ],
   "source": [
    "#The names of classes\n",
    "emails.target_names"
   ]
  },
  {
   "cell_type": "markdown",
   "id": "2eaf5390",
   "metadata": {},
   "source": [
    "### Making the Training and Test Sets\n",
    "We can split the data into training and test sets by specifying the parameter ***subset*** to be either *'train'* and *'test'*. The parameter ***shuffle*** allows shuffling the data, which might be important for models that make the assumption that the samples are independent and identically distributed (i.i.d). ***random_state*** determines random number generation for dataset shuffling and integer value needs to be passed in order to ensure that the output of multiple function calls will be reproducible."
   ]
  },
  {
   "cell_type": "code",
   "execution_count": 85,
   "id": "71302776",
   "metadata": {},
   "outputs": [],
   "source": [
    "train_emails = fetch_20newsgroups(categories = categories,\n",
    "                                 subset = 'train',shuffle = True, random_state = 108)\n",
    "test_emails = fetch_20newsgroups(categories = categories ,\n",
    "                                 subset = 'test',shuffle = True, random_state = 108)"
   ]
  },
  {
   "cell_type": "markdown",
   "id": "3a4d5147",
   "metadata": {},
   "source": [
    "### Counting Words\n",
    "The next step would be to encode the text into a vector form so that our machine learning algorithm would be able to \"understand\" the data. We will be using scikit-learn's CountVectorizer() class for this purpose. "
   ]
  },
  {
   "cell_type": "code",
   "execution_count": 86,
   "id": "a9d244e2",
   "metadata": {},
   "outputs": [
    {
     "data": {
      "text/plain": [
       "CountVectorizer()"
      ]
     },
     "execution_count": 86,
     "metadata": {},
     "output_type": "execute_result"
    }
   ],
   "source": [
    "#Instantiating a vectorizer instance\n",
    "counter = CountVectorizer()\n",
    "#Create a vectorizer by applying .fit method on the training and test texts\n",
    "counter.fit(train_emails.data+test_emails.data)"
   ]
  },
  {
   "cell_type": "markdown",
   "id": "ee600e1e",
   "metadata": {},
   "source": [
    "Vectorized text: each word in the email and its index in the vector is saved as a key-value pair in a dictionary-like format.\n"
   ]
  },
  {
   "cell_type": "code",
   "execution_count": 95,
   "id": "88c078f9",
   "metadata": {},
   "outputs": [],
   "source": [
    "#counter.vocabulary_"
   ]
  },
  {
   "cell_type": "markdown",
   "id": "2a6c8879",
   "metadata": {},
   "source": [
    "To create a vector of counts, we need to pass the text into the vectorizer and apply ***.tranform*** method."
   ]
  },
  {
   "cell_type": "code",
   "execution_count": 88,
   "id": "1db6cf31",
   "metadata": {},
   "outputs": [],
   "source": [
    "train_counts = counter.transform(train_emails.data)\n",
    "test_counts = counter.transform(test_emails.data)"
   ]
  },
  {
   "cell_type": "markdown",
   "id": "f2922ba6",
   "metadata": {},
   "source": [
    "Each sample in the training dataset has been converted into a vector."
   ]
  },
  {
   "cell_type": "code",
   "execution_count": 89,
   "id": "6be7744e",
   "metadata": {},
   "outputs": [
    {
     "data": {
      "text/plain": [
       "array([0, 0, 0, ..., 0, 0, 0], dtype=int64)"
      ]
     },
     "execution_count": 89,
     "metadata": {},
     "output_type": "execute_result"
    }
   ],
   "source": [
    "#Let's observe the vector value of the first sample\n",
    "train_counts.toarray()[0]"
   ]
  },
  {
   "cell_type": "code",
   "execution_count": 90,
   "id": "db026717",
   "metadata": {},
   "outputs": [
    {
     "data": {
      "text/plain": [
       "35316"
      ]
     },
     "execution_count": 90,
     "metadata": {},
     "output_type": "execute_result"
    }
   ],
   "source": [
    "#The length of the first sample is quite large, we can only see it as 0s. Check the full length:\n",
    "len(train_counts.toarray()[0])"
   ]
  },
  {
   "cell_type": "code",
   "execution_count": 91,
   "id": "e4b77be2",
   "metadata": {},
   "outputs": [
    {
     "data": {
      "text/plain": [
       "206"
      ]
     },
     "execution_count": 91,
     "metadata": {},
     "output_type": "execute_result"
    }
   ],
   "source": [
    "#Let's count number of words in the first sample:\n",
    "np.sum(train_counts.toarray()[0])"
   ]
  },
  {
   "cell_type": "markdown",
   "id": "7fda6975",
   "metadata": {},
   "source": [
    "### Making a Naive Bayes Classifier\n",
    "\n",
    "We will be using one of the supervised machine learning algorithms that leverages Bayes' theorem to make classifications - Naive Bayes classifier. \n",
    "\n",
    "$$P(A ∣ B)= \\frac{P(B ∣ A)⋅P(A)}{P(B)}$$\n",
    "\n",
    "The theorem helps to find the probability of A given B. In our classification problem, we can rewrite that to \"probability of hockey or baseball being mentioned given the email\". We will be comparing *P(hockey | email)* and *P(baseball | email)* and whichever probabibilty is higher will be the classifier's prediction. Therefore, our probability statement will be given by the following formulas:\n",
    "\n",
    "$$P(hockey ∣ email)= \\frac{P(email ∣ hockey)⋅P(hockey)}{P(email)}$$\n",
    "\n",
    "$$P(baseball ∣ email)= \\frac{P(email ∣ baseball)⋅P(baseball)}{P(email)}$$\n"
   ]
  },
  {
   "cell_type": "code",
   "execution_count": 92,
   "id": "63b2dcb8",
   "metadata": {},
   "outputs": [],
   "source": [
    "#Build a classifier using scikit-learn\n",
    "classifier = MultinomialNB()"
   ]
  },
  {
   "cell_type": "code",
   "execution_count": 93,
   "id": "ef8ba498",
   "metadata": {},
   "outputs": [
    {
     "data": {
      "text/plain": [
       "MultinomialNB()"
      ]
     },
     "execution_count": 93,
     "metadata": {},
     "output_type": "execute_result"
    }
   ],
   "source": [
    "#Train a classifier on training data and its labels\n",
    "classifier.fit(train_counts,train_emails.target)"
   ]
  },
  {
   "cell_type": "code",
   "execution_count": 94,
   "id": "3fa9ca78",
   "metadata": {},
   "outputs": [
    {
     "data": {
      "text/plain": [
       "0.9606598984771574"
      ]
     },
     "execution_count": 94,
     "metadata": {},
     "output_type": "execute_result"
    }
   ],
   "source": [
    "#Accuracy of classifier with respect to our test data\n",
    "classifier.score(test_counts,test_emails.target)"
   ]
  }
 ],
 "metadata": {
  "kernelspec": {
   "display_name": "Python 3",
   "language": "python",
   "name": "python3"
  },
  "language_info": {
   "codemirror_mode": {
    "name": "ipython",
    "version": 3
   },
   "file_extension": ".py",
   "mimetype": "text/x-python",
   "name": "python",
   "nbconvert_exporter": "python",
   "pygments_lexer": "ipython3",
   "version": "3.8.8"
  }
 },
 "nbformat": 4,
 "nbformat_minor": 5
}
