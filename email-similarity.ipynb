{
 "cells": [
  {
   "cell_type": "markdown",
   "id": "e752d754",
   "metadata": {},
   "source": [
    "# Email similarity\n",
    "### Supervised learning - Naive Bayes classifier using sklearn. \n",
    "\n",
    "- Dataset is taken from https://scikit-learn.org/stable/modules/generated/sklearn.datasets.fetch_20newsgroups.html\n",
    "- The project is available on Data Science career path on Codecademy platform."
   ]
  },
  {
   "cell_type": "code",
   "execution_count": 2,
   "id": "c5ee3c37",
   "metadata": {},
   "outputs": [],
   "source": [
    "#Importing the libraries \n",
    "from sklearn.datasets import fetch_20newsgroups\n",
    "from sklearn.naive_bayes import MultinomialNB\n",
    "from sklearn.feature_extraction.text import CountVectorizer"
   ]
  },
  {
   "cell_type": "markdown",
   "id": "0f2a5ea8",
   "metadata": {},
   "source": [
    "### Exploring the Data\n"
   ]
  },
  {
   "cell_type": "code",
   "execution_count": 12,
   "id": "54edb55a",
   "metadata": {},
   "outputs": [
    {
     "data": {
      "text/plain": [
       "['alt.atheism',\n",
       " 'comp.graphics',\n",
       " 'comp.os.ms-windows.misc',\n",
       " 'comp.sys.ibm.pc.hardware',\n",
       " 'comp.sys.mac.hardware',\n",
       " 'comp.windows.x',\n",
       " 'misc.forsale',\n",
       " 'rec.autos',\n",
       " 'rec.motorcycles',\n",
       " 'rec.sport.baseball',\n",
       " 'rec.sport.hockey',\n",
       " 'sci.crypt',\n",
       " 'sci.electronics',\n",
       " 'sci.med',\n",
       " 'sci.space',\n",
       " 'soc.religion.christian',\n",
       " 'talk.politics.guns',\n",
       " 'talk.politics.mideast',\n",
       " 'talk.politics.misc',\n",
       " 'talk.religion.misc']"
      ]
     },
     "execution_count": 12,
     "metadata": {},
     "output_type": "execute_result"
    }
   ],
   "source": [
    "#Loading the dataset of emails \n",
    "emails = fetch_20newsgroups()\n",
    "#20 different categories that are available in the dataset\n",
    "emails.target_names"
   ]
  },
  {
   "cell_type": "markdown",
   "id": "119a0ed4",
   "metadata": {},
   "source": [
    "We are looking into classifying the emails about hockey and soccer. To load those categories, we need to pass ***categories*** parameter to the *fetch_20newsgroups()* function."
   ]
  },
  {
   "cell_type": "code",
   "execution_count": null,
   "id": "29c2f1c3",
   "metadata": {},
   "outputs": [],
   "source": [
    "categories = ['rec.sport.baseball', 'rec.sport.hockey']\n",
    "emails = fetch_20newsgroups(categories=categories)"
   ]
  },
  {
   "cell_type": "markdown",
   "id": "0274cdb7",
   "metadata": {},
   "source": [
    "From the emails dataset, we can access the following information:\n",
    "- Data\n",
    "- Labels\n",
    "- Class names"
   ]
  },
  {
   "cell_type": "code",
   "execution_count": 23,
   "id": "072b5724",
   "metadata": {},
   "outputs": [
    {
     "data": {
      "text/plain": [
       "1197"
      ]
     },
     "execution_count": 23,
     "metadata": {},
     "output_type": "execute_result"
    }
   ],
   "source": [
    "#Data stored as a list in emails.data\n",
    "emails.data\n",
    "#Total of 1197 emails are available in the dataset\n",
    "len(emails.data)"
   ]
  },
  {
   "cell_type": "code",
   "execution_count": 25,
   "id": "eacb1492",
   "metadata": {},
   "outputs": [
    {
     "data": {
      "text/plain": [
       "1197"
      ]
     },
     "execution_count": 25,
     "metadata": {},
     "output_type": "execute_result"
    }
   ],
   "source": [
    "#Labels for emails\n",
    "emails.target\n",
    "#Corresponding labels, 1197 in total\n",
    "len(emails.target)"
   ]
  },
  {
   "cell_type": "code",
   "execution_count": 26,
   "id": "7e166246",
   "metadata": {},
   "outputs": [
    {
     "data": {
      "text/plain": [
       "['rec.sport.baseball', 'rec.sport.hockey']"
      ]
     },
     "execution_count": 26,
     "metadata": {},
     "output_type": "execute_result"
    }
   ],
   "source": [
    "#The names of classes\n",
    "emails.target_names"
   ]
  },
  {
   "cell_type": "markdown",
   "id": "14c3a227",
   "metadata": {},
   "source": [
    "### Making the Training and Test Sets\n"
   ]
  },
  {
   "cell_type": "code",
   "execution_count": 10,
   "id": "71302776",
   "metadata": {},
   "outputs": [],
   "source": [
    "train_emails = fetch_20newsgroups(categories = categories,\n",
    "                                 subset = 'train',shuffle = True, random_state = 108)\n",
    "test_emails = fetch_20newsgroups(categories = categories ,\n",
    "                                 subset = 'test',shuffle = True, random_state = 108)"
   ]
  },
  {
   "cell_type": "code",
   "execution_count": 6,
   "id": "a9d244e2",
   "metadata": {},
   "outputs": [
    {
     "data": {
      "text/plain": [
       "CountVectorizer()"
      ]
     },
     "execution_count": 6,
     "metadata": {},
     "output_type": "execute_result"
    }
   ],
   "source": [
    "counter = CountVectorizer()\n",
    "counter.fit(train_emails.data+test_emails.data)"
   ]
  },
  {
   "cell_type": "code",
   "execution_count": 7,
   "id": "f16df2fc",
   "metadata": {},
   "outputs": [],
   "source": [
    "train_counts= counter.transform(train_emails.data)"
   ]
  },
  {
   "cell_type": "code",
   "execution_count": 8,
   "id": "ab1530c7",
   "metadata": {},
   "outputs": [],
   "source": [
    "test_counts= counter.transform(test_emails.data)"
   ]
  },
  {
   "cell_type": "code",
   "execution_count": null,
   "id": "c6fd9df2",
   "metadata": {},
   "outputs": [],
   "source": []
  }
 ],
 "metadata": {
  "kernelspec": {
   "display_name": "Python 3",
   "language": "python",
   "name": "python3"
  },
  "language_info": {
   "codemirror_mode": {
    "name": "ipython",
    "version": 3
   },
   "file_extension": ".py",
   "mimetype": "text/x-python",
   "name": "python",
   "nbconvert_exporter": "python",
   "pygments_lexer": "ipython3",
   "version": "3.8.8"
  }
 },
 "nbformat": 4,
 "nbformat_minor": 5
}
